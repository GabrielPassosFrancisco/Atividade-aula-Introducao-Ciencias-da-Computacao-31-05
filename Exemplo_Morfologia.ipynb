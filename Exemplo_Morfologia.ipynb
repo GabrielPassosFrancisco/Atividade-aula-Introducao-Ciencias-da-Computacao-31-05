{
  "nbformat": 4,
  "nbformat_minor": 0,
  "metadata": {
    "colab": {
      "provenance": [],
      "include_colab_link": true
    },
    "kernelspec": {
      "name": "python3",
      "display_name": "Python 3"
    },
    "language_info": {
      "name": "python"
    }
  },
  "cells": [
    {
      "cell_type": "markdown",
      "metadata": {
        "id": "view-in-github",
        "colab_type": "text"
      },
      "source": [
        "<a href=\"https://colab.research.google.com/github/GabrielPassosFrancisco/Atividade-aula-Introducao-Ciencias-da-Computacao-31-05/blob/main/Exemplo_Morfologia.ipynb\" target=\"_parent\"><img src=\"https://colab.research.google.com/assets/colab-badge.svg\" alt=\"Open In Colab\"/></a>"
      ]
    },
    {
      "cell_type": "markdown",
      "source": [
        "Universidade do Vale do Itajaí<br>\n",
        "Escola do Mar, Ciência e Tecnologia<br>\n",
        "Professor Felipe Viel\n",
        "\n",
        "# Exemplo Morfologia\n",
        "\n",
        "### Tutoriais da OpenCV\n",
        "\n",
        "- https://docs.opencv.org/master/d9/df8/tutorial_root.html\n",
        "- https://www.geeksforgeeks.org/opencv-python-tutorial/"
      ],
      "metadata": {
        "id": "hs7F3RjrUjCH"
      }
    },
    {
      "cell_type": "markdown",
      "source": [
        "# O código foi usado no próprio computador do aluno"
      ],
      "metadata": {
        "id": "ipKk0yY-yBLh"
      }
    },
    {
      "cell_type": "code",
      "execution_count": null,
      "metadata": {
        "id": "9ieiSWN_Uh5b"
      },
      "outputs": [],
      "source": [
        "#from https://opencv-python-tutroals.readthedocs.io/en/latest/py_tutorials/py_imgproc/py_morphological_ops/py_morphological_ops.html\n",
        "#O código foi usado no próprio computador do aluno\n",
        "\n",
        "#Importação das bibliotecas que serão usadas no código\n",
        "import cv2\n",
        "import numpy as np\n"
      ]
    },
    {
      "cell_type": "code",
      "source": [
        "#Nessas 3 primeiras linhas o código está armazenando a imagem dentro dessas 3 variáveis\n",
        "img = cv2.imread('j.png',0)\n",
        "img_opening = cv2.imread('j_ruido.png',0)\n",
        "img_closing = cv2.imread('j_furos.png',0)\n",
        "# img.shape serve para pegar as proporções da variável \"img\" usando o método de array da biblioteca Numpy, salvando cada proporção nas variáveis \"altura\" e depois \"largura\"\n",
        "altura, largura = img.shape\n",
        "# Essa linha de baixo está armazenando dentro da variável \"kernel\" uma matriz 5 por 5 composto de números 1\n",
        "kernel = np.ones((5,5),np.uint8)\n",
        "# Essa linha de baixo está mostrando na tela a matriz\n",
        "print(kernel)"
      ],
      "metadata": {
        "id": "8whvZbKhU03S"
      },
      "execution_count": null,
      "outputs": []
    },
    {
      "cell_type": "code",
      "source": [
        "# cv2.erode, primeiro a variável \"kernel\" passa por cima da imagem por assim dizer, cada pixel da imagem vai ser 1, porém se todos os elementos forem 1 também\n",
        "# Todos os pixels no limite da figura serão apagados, assim fazendo a imagem parecer menor.\n",
        "\n",
        "# cv2.dilate, é praticamente a mesma coisa do cv2.erode só que ao contrário, ele faz a imagem parecer maior.\n",
        "erosion = cv2.erode(img,kernel,iterations = 2)\n",
        "dilation = cv2.dilate(img,kernel,iterations = 2)"
      ],
      "metadata": {
        "id": "RnKcRcjsU8VP"
      },
      "execution_count": null,
      "outputs": []
    },
    {
      "cell_type": "code",
      "source": [
        "# cv2.MORPH_GRADIENT, o cv2.morphologyEx é uma função que usa cv2.erode e cv2.dilate como base para fazer operações mais avançadas,\n",
        "# o cv2.MORPH_GRADIENT é a diferença entre esses dois, fazendo aparecer um contorno em volta da imagem\n",
        "\n",
        "# O cv2.MORPH_OPEN usa primeiro o cv2.erode para depois utilizar o cv2.dilate, ele serve para remover os ruídos dentro da imagem\n",
        "\n",
        "# O cv2.MORPH_CLOSE é literalmente o inverso do  cv2.MORPH_OPEN, então usa primeiro o cv2.dilate e depois o cv2.erode, assim removendo pequenos buracos presente na imagem\n",
        "gradient = cv2.morphologyEx(img, cv2.MORPH_GRADIENT, kernel)\n",
        "opening = cv2.morphologyEx(img_opening, cv2.MORPH_OPEN, kernel)\n",
        "closing = cv2.morphologyEx(img_closing, cv2.MORPH_CLOSE, kernel)"
      ],
      "metadata": {
        "id": "WvTtlQWJU-tz"
      },
      "execution_count": null,
      "outputs": []
    },
    {
      "cell_type": "code",
      "source": [
        "\n",
        "#Caso usa com Python no próprio computador\n",
        "\n",
        "# O cv2.imshow serve para abrir as janelas do python para exibir algo, no primeiro parametro(cv2.imshow('aqui', xxxxxxx)) se coloca o nome da janela,\n",
        "# e de segundo parametro(cv2.imshow('xxxxxxx', aqui)) se coloca a váriavel ou função que você deseja exibir nessas janelas\n",
        "cv2.imshow('in', img)\n",
        "cv2.imshow('erosion_out', erosion)\n",
        "cv2.imshow('dilation_out', dilation)\n",
        "cv2.imshow('opening_out', opening)\n",
        "cv2.imshow('closing_out', closing)\n",
        "cv2.imshow('gradient_out', gradient)\n",
        "\n",
        "#Essa parte do código não estava no original, mas percebi que sem essas linhas estava dando erro\n",
        "\n",
        "# O cv2.waitKey(0) serve para que as janelas fiquem abertas até o user pressionar alguma tecla ou por um determinado tempo.\n",
        "cv2.waitKey(0)\n",
        "# O cv2.destroyAllWindows() é uma função que serve para fechar todas as janelas abertas pelo script\n",
        "cv2.destroyAllWindows()"
      ],
      "metadata": {
        "id": "iMJ7o6EgVA_r"
      },
      "execution_count": null,
      "outputs": []
    }
  ]
}